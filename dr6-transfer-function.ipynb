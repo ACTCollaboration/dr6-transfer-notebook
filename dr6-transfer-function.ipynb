{
 "cells": [
  {
   "cell_type": "markdown",
   "id": "335c9633",
   "metadata": {},
   "source": [
    "# Imports"
   ]
  },
  {
   "cell_type": "markdown",
   "id": "8d3aeaf9",
   "metadata": {},
   "source": [
    "Requires `healpy`, `numpy`, `orphics`, `pixell`, `pymaster`, and `camb`."
   ]
  },
  {
   "cell_type": "code",
   "execution_count": 102,
   "id": "a74a5a88",
   "metadata": {},
   "outputs": [],
   "source": [
    "import healpy as hp\n",
    "import numpy as np\n",
    "from orphics import cosmology, maps\n",
    "import matplotlib.pyplot as plt\n",
    "from pixell import lensing as plensing\n",
    "\n",
    "import os, time\n",
    "\n",
    "import pymaster as nmt\n",
    "\n",
    "import camb\n",
    "from camb.sources import GaussianSourceWindow, SplinedSourceWindow\n",
    "from camb import model"
   ]
  },
  {
   "cell_type": "markdown",
   "id": "6c546798",
   "metadata": {},
   "source": [
    "# Filenames / Locations of sims + masks"
   ]
  },
  {
   "cell_type": "markdown",
   "id": "b2c44bc7",
   "metadata": {},
   "source": [
    "Replace as needed, make sure masks have the same `Nside` resolution.\n",
    "All provided paths to ACT data products (blinded!) are located on NERSC's Perlmutter system."
   ]
  },
  {
   "cell_type": "code",
   "execution_count": 1,
   "id": "a2190b13",
   "metadata": {},
   "outputs": [],
   "source": [
    "# healpix maps\n",
    "GALAXY_MASK = \"/path/to/galaxy/mask/here.fits\"\n",
    "# ACT mask needs to be converted to a healpix map first!\n",
    "# https://github.com/simonsobs/pixell/blob/master/pixell/reproject.py#L115\n",
    "KAPPA_MASK = \"/global/cfs/cdirs/act/data/gfarren/act_mask_20220316_GAL060_rms_70.00_d2sk.fits\"\n",
    "\n",
    "# healpix alms\n",
    "INPUT_PHIS = \"/global/homes/j/jia_qu/files/ACT_blinded_alms/signal_sims/fullskyPhi_alm_00###.fits\"\n",
    "RECON_KAPPAS = \"/global/homes/j/jia_qu/files/ACT_blinded_alms/act_lensing_sims/baseline/all_MV_simlensing_mf-sub_mc-corr_MV_#.fits\"\n",
    "\n",
    "# numpy array saved as a file\n",
    "NORM_CORRECTION = \"/global/homes/j/jia_qu/files/ACT_blinded_alms/act_lensing_sims/mc_norm_corrections/all_MV_mc_bias_MV_sims1-400\"\n",
    "\n",
    "FILLER = \"#\""
   ]
  },
  {
   "cell_type": "markdown",
   "id": "d43a0453",
   "metadata": {},
   "source": [
    "# Constants"
   ]
  },
  {
   "cell_type": "markdown",
   "id": "c6b17838",
   "metadata": {},
   "source": [
    "Change as needed! Number of bandpowers will be `(LMAX_CUT - LMIN) / LperBin`."
   ]
  },
  {
   "cell_type": "code",
   "execution_count": 37,
   "id": "1f56bbc1",
   "metadata": {},
   "outputs": [],
   "source": [
    "LMIN = 40\n",
    "LMAX = 6000\n",
    "LMAX_CUT = 1000\n",
    "LperBin = 40\n",
    "NSIDE = 2048"
   ]
  },
  {
   "cell_type": "markdown",
   "id": "f29e377b",
   "metadata": {},
   "source": [
    "# Binning (NaMaster)"
   ]
  },
  {
   "cell_type": "code",
   "execution_count": 56,
   "id": "9b48d402",
   "metadata": {},
   "outputs": [],
   "source": [
    "# bin cls according to some scheme defined by b\n",
    "def bin_spectra(cls, b=None, coupling_matrix_name=None):\n",
    "    cls_nmt = np.array([cls])\n",
    "    if coupling_matrix_name is not None:\n",
    "        wsp = nmt.NmtWorkspace()\n",
    "        wsp.read_from(coupling_matrix_name)\n",
    "        return wsp.decouple_cell(wsp.couple_cell(cls_nmt))[0]\n",
    "    if b is not None:\n",
    "        assert len(cls_nmt[0]) == b.lmax+1, f\"cl size ({str(len(cls_nmt[0]))}) != binning range ({str(b.lmax+1)})\"\n",
    "        return b.bin_cell(cls_nmt)[0]\n",
    "    \n",
    "def make_bins(nside=NSIDE,LperBin=50,lmin=LMIN,lmax=LMAX):\n",
    "    ells    = np.arange(lmax,dtype='int32')\n",
    "    weights = 1. / LperBin * np.ones_like(ells)\n",
    "    weights[ells<lmin] = 0\n",
    "    \n",
    "    # Now generate the bandpower indices, here by brute force.\n",
    "    # A -1 means that ell value is not included in any bandpower.\n",
    "    bpws = np.zeros_like(ells) - 1\n",
    "    ibin = 0\n",
    "    while LperBin*(ibin+1)+lmin<lmax:\n",
    "        bpws[LperBin*ibin+lmin:LperBin*(ibin+1)+lmin] = ibin\n",
    "        ibin += 1\n",
    "    # return Nmt binning instance\n",
    "    return nmt.NmtBin(nside,bpws=bpws,ells=ells,weights=weights)\n",
    "\n",
    "# assuming linearly spaced\n",
    "def bin_edges_from_nmt(b, LperBin):\n",
    "    cents = b.get_effective_ells()\n",
    "    cents_with_zero = [cents[0] - LperBin] + list(cents)[:-1]\n",
    "    \n",
    "    # needs extra 0.5 additive factor if LperBin is even\n",
    "    return 0.5 * ((1 - (LperBin % 2)) + np.array(cents) + np.array(cents_with_zero))\n",
    "\n",
    "# return index for max bin index within a cutoff\n",
    "def max_bin(bin_edges, cutoff):\n",
    "    return np.argmax(np.nonzero(bin_edges < cutoff)[0]) + 1"
   ]
  },
  {
   "cell_type": "markdown",
   "id": "7c5f404e",
   "metadata": {},
   "source": [
    "Here's a wrapper for CAMB to read parameters from a .ini file to generate theory spectra that can be reordered by this `orphics` function. I don't use it in this notebook as it can take some time to run CAMB for a higher `lmax`."
   ]
  },
  {
   "cell_type": "code",
   "execution_count": 5,
   "id": "ebbd1b0a",
   "metadata": {},
   "outputs": [],
   "source": [
    "# most code directly copied from https://github.com/msyriac/orphics/blob/master/orphics/cosmology.py\n",
    "def theory_cls_from_ini(ini_filename, windows, lmax, nonlinear=True):\n",
    "    pars = camb.read_ini(ini_filename)\n",
    "    pars.set_for_lmax(lmax, lens_potential_accuracy=1)\n",
    "    pars.Want_CMB = False \n",
    "    #NonLinear_both or NonLinear_lens will use non-linear corrections\n",
    "    if nonlinear:\n",
    "        pars.NonLinear = model.NonLinear_both\n",
    "    else:\n",
    "        pars.NonLinear = None\n",
    "\n",
    "    sws = []\n",
    "    aws = dict(windows)\n",
    "    wkeys = list(aws.keys())\n",
    "    for key in wkeys:\n",
    "        assert ('P' not in key) and ('x' not in key), \"The letters P and x are not allowed in window names.\"\n",
    "        ws = aws[key]\n",
    "        stype = ws['stype'].strip().lower()\n",
    "        if stype=='counts':\n",
    "            bias = ws['b']\n",
    "            try:\n",
    "                dlog10Ndm = ws['dlog10Ndm']\n",
    "            except:\n",
    "                dlog10Ndm = -0.2\n",
    "        elif stype=='lensing':\n",
    "            bias = 0\n",
    "            dlog10Ndm = 0\n",
    "        else:\n",
    "            raise ValueError\n",
    "        wtype = ws['wtype'].strip().lower()\n",
    "        if wtype=='gaussian':\n",
    "            wfunc = GaussianSourceWindow\n",
    "            redshift = ws['zmean']\n",
    "            sigma = ws['zsigma']\n",
    "            sws = sws + [wfunc(source_type=stype,bias=bias,dlog10Ndm=dlog10Ndm,redshift=redshift,sigma=sigma)]\n",
    "        elif wtype=='spline':\n",
    "            wfunc = SplinedSourceWindow\n",
    "            zs = ws['zs']\n",
    "            dndz = ws['dndz']\n",
    "            sws = sws + [wfunc(source_type=stype,bias=bias,dlog10Ndm=dlog10Ndm,z=zs,W=dndz)]\n",
    "        else:\n",
    "            raise ValueError\n",
    "\n",
    "    pars.SourceWindows = [*sws]\n",
    "    results = camb.get_results(pars)\n",
    "    cls = results.get_source_cls_dict()\n",
    "    odict = {}\n",
    "    ls = np.arange(cls['PxP'].size)    \n",
    "    for key in cls.keys():\n",
    "        w1,w2 = key.split('x')\n",
    "        if w1=='P':\n",
    "            mul1 = 1./2.\n",
    "            ow1 = 'CMB'\n",
    "        else:\n",
    "            a,ind = w1[0],int(w1[1:])\n",
    "            assert a=='W'\n",
    "            assert ind>0\n",
    "            ow1 = wkeys[ind-1]\n",
    "            with np.errstate(divide='ignore',invalid='ignore'):                     \n",
    "                mul1 = 1./np.sqrt(ls*(ls+1.))\n",
    "        if w2=='P':\n",
    "            mul2 = 1./2.\n",
    "            ow2 = 'CMB'\n",
    "        else:\n",
    "            a,ind = w2[0],int(w2[1:])\n",
    "            assert a=='W'\n",
    "            assert ind>0\n",
    "            ow2 = wkeys[ind-1]\n",
    "            with np.errstate(divide='ignore',invalid='ignore'):                     \n",
    "                mul2 = 1./np.sqrt(ls*(ls+1.))\n",
    "                \n",
    "        mul = mul1 * mul2 * 2. * np.pi\n",
    "        odict[f'{ow1}x{ow2}'] = cls[key] * mul\n",
    "        \n",
    "    return odict"
   ]
  },
  {
   "cell_type": "markdown",
   "id": "ed68876b",
   "metadata": {},
   "source": [
    "# Transfer function"
   ]
  },
  {
   "cell_type": "markdown",
   "id": "581845ad",
   "metadata": {},
   "source": [
    "The commonly defined transfer function, or $T(l)$, is computed here as the following:\n",
    "\n",
    "$$\n",
    "T(l) = \\dfrac{\\dfrac{1}{N} \\displaystyle\\sum_{\\text{sim } i}^{N} \\text{NmtBin}\\left(C^{\\hat{\\kappa} X}_{i, NMT} \\right)}{\\text{NmtBin}\\left(C^{\\kappa X}_{\\text{CAMB}}\\right)}\n",
    "$$\n",
    "\n",
    "where $X$ refers to either the input lensing convergence $\\kappa$ or a correlated galaxy field $g$ generated by populating a galaxy simulation so that it has the same auto and cross spectra as the provided theory (see `orphics.maps.generate_correlated_alm`).\n",
    "\n",
    "The denominator is computed according to cosmological parameters used to create the lensing simulations written in a CAMB .ini file to result in a theory spectrum that is binned by NaMaster (by coupling and then decoupling with a mode-coupling cell), and the numerator is computed as a mean over sims of a NaMaster-computed pseudo-Cl between the reconstructed convergence $\\hat{\\kappa}$ and $X$, ensuring that the binning of the denominator is done exactly the same way as the numerator.\n",
    "\n",
    "This is what we should *divide* our initial measurement by to correct the data products for any mode-coupling or fractional sky effects that we expect from the simulations. \n",
    "\n",
    "For this case, we will treat $X = \\kappa$."
   ]
  },
  {
   "cell_type": "markdown",
   "id": "be0ecaaa",
   "metadata": {},
   "source": [
    "## Denominator"
   ]
  },
  {
   "cell_type": "markdown",
   "id": "b31a4fab",
   "metadata": {},
   "source": [
    "The numerator is simply the ACT DR6 lensing auto-spectrum theory binned with NaMaster. Both the numerator and denominator will be binned up to a much higher ell (`LMAX`) than the desired limit (`LMAX_CUT`) to prevent power leakage at the smallest considered scales, and then cut at that limiting bin number after all binning is done."
   ]
  },
  {
   "cell_type": "code",
   "execution_count": 48,
   "id": "8a9b1836",
   "metadata": {},
   "outputs": [],
   "source": [
    "ells, dr6_lensing_clkk = np.loadtxt(\"theory-clkk-cls.txt\", usecols=[0,1], unpack=True)\n",
    "clkk_theory = dr6_lensing_clkk[ells < 3*NSIDE]\n",
    "\n",
    "# usually monopole and dipole of lensing auto-spectrum is set to zero\n",
    "# if included at all, but needs to be included for binning\n",
    "if ells[0] > 0:\n",
    "    clkk_theory = np.append(np.array([0] * int(ells[0])),\n",
    "                            clkk_theory)"
   ]
  },
  {
   "cell_type": "code",
   "execution_count": 123,
   "id": "24c27de9",
   "metadata": {},
   "outputs": [],
   "source": [
    "# Now bin with NaMaster. We will reuse \"b\"!\n",
    "b = make_bins(nside=NSIDE,LperBin=40,lmin=LMIN,lmax=LMAX)\n",
    "\n",
    "# cut to LMAX_CUT\n",
    "clkk_theory_binned = bin_spectra(clkk_theory, b)[:max_bin(b.get_effective_ells(), LMAX_CUT)]"
   ]
  },
  {
   "cell_type": "markdown",
   "id": "c91eb8be",
   "metadata": {},
   "source": [
    "## Numerator"
   ]
  },
  {
   "cell_type": "markdown",
   "id": "3f2647a9",
   "metadata": {},
   "source": [
    "We have to now iterate over sims and compute the mean pseudo-Cls with the masks passed into NaMaster.\n",
    "Here is the iterating function:"
   ]
  },
  {
   "cell_type": "code",
   "execution_count": 131,
   "id": "1c37c2a8",
   "metadata": {},
   "outputs": [],
   "source": [
    "START_INDEX = 2\n",
    "END_INDEX = 101 # inclusive\n",
    "\n",
    "COUPLING_MATRIX_NAME = \"nmt_transfer_function_coupling_matrix.fits\"\n",
    "\n",
    "# iterate a function \"fn\" over all sims with some indexing format\n",
    "# return dict d where d[idx] = fn(sims[idx], idx)\n",
    "# if is_healpix_map is set to False, assume the sims are alm files\n",
    "def iterate_over_kappa_sims(fn, sim_start=START_INDEX, sim_end=END_INDEX,\n",
    "                            is_healpix_map=True, common_format=\"sims_####.fits\", formatter=\"#\"):\n",
    "    data_dict = {}\n",
    "\n",
    "    for i in range(sim_start, sim_end+1):\n",
    "        # find appropriate file name for a given file index\n",
    "        ndigits = common_format.count(formatter)\n",
    "        filename = common_format.replace(formatter * ndigits, str(i).zfill(ndigits))\n",
    "        \n",
    "        try:\n",
    "            if is_healpix_map:\n",
    "                filedata = hp.read_map(filename)\n",
    "            else:\n",
    "                # alm indices 0 + 1 can be NaNs due to convention\n",
    "                filedata = np.nan_to_num(hp.read_alm(filename)).astype(np.complex128)\n",
    "            \n",
    "            print(f\"Running index #{str(i)}.\")\n",
    "            print(f\"Filename: {filename}\")\n",
    "            fn(filedata, data_dict, i)\n",
    "            # for memory purposes\n",
    "            del filedata\n",
    "\n",
    "        except FileNotFoundError:\n",
    "            print(f\"Could not find {filename}.\")\n",
    "            continue\n",
    "    \n",
    "    return data_dict"
   ]
  },
  {
   "cell_type": "markdown",
   "id": "abd3f448",
   "metadata": {},
   "source": [
    "And the helper function it needs to iterate:"
   ]
  },
  {
   "cell_type": "code",
   "execution_count": 132,
   "id": "1038e442",
   "metadata": {},
   "outputs": [],
   "source": [
    "# now defining the \"fn\" to be iterated over in the definition above\n",
    "# \"kappa\" here refers to the reconstructed kappa sims\n",
    "def iterator_clkk(kappa, data_dict, idx):\n",
    "    # the index # \"idx\" also specifies the input potential filename\n",
    "    # assuming recon sim index # == input sim index #\n",
    "    input_kappa_filename = INPUT_PHIS.replace(FILLER * INPUT_PHIS.count(FILLER),\n",
    "                                              str(idx).zfill(INPUT_PHIS.count(FILLER)))\n",
    "    print(f\"Input kappa: {input_kappa_filename}\")\n",
    "\n",
    "    # the input alms are lensing potentials,\n",
    "    # so convert them to kappa alms stored as double complex values\n",
    "    input_kappa = plensing.phi_to_kappa(hp.read_alm(input_kappa_filename)).astype(np.complex128)\n",
    "    \n",
    "    # reconstructed sims need a multiplicative MC norm correction\n",
    "    # comment these lines out if MC norm correction is already applied!\n",
    "    \n",
    "    # mc_corr = np.loadtxt(NORM_CORRECTION)\n",
    "    \n",
    "    # but these might do strange things to the monopole and dipole terms\n",
    "    # so let's first set those to zero\n",
    "    \n",
    "    # mc_corr[0] = 0.\n",
    "    # mc_corr[1] = 0.\n",
    "    # kappa = hp.almxfl(kappa, mc_corr)\n",
    "    \n",
    "    # run NaMaster!\n",
    "    kmask = hp.read_map(KAPPA_MASK)\n",
    "    gmask = hp.read_map(GALAXY_MASK)\n",
    "    \n",
    "    kmap = hp.alm2map(input_kappa, NSIDE)\n",
    "    khat_map = hp.alm2map(kappa, NSIDE)\n",
    "\n",
    "    # The reconstructed lensing sims are made from pre-masked CMB temperature maps,\n",
    "    # so the quadratic estimator results in a lensing map effectively masked twice by the ACT mask\n",
    "    field_k_hat = nmt.NmtField(kmask**2, [khat_map], masked_on_input=True)\n",
    "    # No need to worry about the input lensing fields, since they are generated on the full sky\n",
    "    field_k = nmt.NmtField(gmask, [kmap], masked_on_input=False)\n",
    "\n",
    "    # only compute coupling matrix if not pre-computed / saved before\n",
    "    w = nmt.NmtWorkspace()\n",
    "    if os.path.isfile(COUPLING_MATRIX_NAME):\n",
    "        print(\"Reading coupling matrix from disk.\")\n",
    "        w.read_from(COUPLING_MATRIX_NAME)\n",
    "    else:\n",
    "        w.compute_coupling_matrix(field_k, field_k_hat, b)\n",
    "        print(\"Writing coupling matrix to disk.\")\n",
    "        w.write_to(COUPLING_MATRIX_NAME)\n",
    "\n",
    "    # use coupling matrix to generate pseudo-cls\n",
    "    clkk = w.decouple_cell(nmt.compute_coupled_cell(field_k, field_k_hat))[0]\n",
    "    nmtells = b.get_effective_ells()\n",
    "    \n",
    "    # only run to desired lmax cut\n",
    "    data_dict[idx] = clkk[:max_bin(nmtells, LMAX_CUT)]"
   ]
  },
  {
   "cell_type": "markdown",
   "id": "557e625e",
   "metadata": {},
   "source": [
    "Now we iterate over the desired number of sims (can take O(hours) for multiple hundreds of sims!)"
   ]
  },
  {
   "cell_type": "code",
   "execution_count": null,
   "id": "30edaa1b",
   "metadata": {},
   "outputs": [],
   "source": [
    "time1 = time.time()\n",
    "clkk_data = iterate_over_kappa_sims(iterator_clkk, sim_start=START_INDEX, sim_end=END_INDEX,\n",
    "                                    is_healpix_map=False, common_format=RECON_KAPPAS, formatter=FILLER)\n",
    "print(\"--\")\n",
    "print(f\"Time elapsed: {time.time()-time1:0.5f} seconds\")"
   ]
  },
  {
   "cell_type": "markdown",
   "id": "357bb21a",
   "metadata": {},
   "source": [
    "Compute the mean of the sim-based spectrum computation over the sims for the transfer function as well as the scatter via covariance matrix from the sims to estimate error bars for our transfer function measurement:"
   ]
  },
  {
   "cell_type": "code",
   "execution_count": 134,
   "id": "3dc2a83f",
   "metadata": {},
   "outputs": [],
   "source": [
    "clkk_sims = np.array([clkk_data[k] for k in clkk_data.keys()])\n",
    "\n",
    "clkk_mean_sims = np.mean(clkk_sims, axis=0)\n",
    "\n",
    "# computing error bars (on the mean) from sims covariance\n",
    "errs = 1/np.sqrt(END_INDEX - START_INDEX + 1) * np.sqrt(np.diag(np.cov(clkk_sims.T)))"
   ]
  },
  {
   "cell_type": "markdown",
   "id": "4f7806be",
   "metadata": {},
   "source": [
    "# T(l) results and plots"
   ]
  },
  {
   "cell_type": "code",
   "execution_count": 135,
   "id": "3ec029aa",
   "metadata": {},
   "outputs": [
    {
     "data": {
      "image/png": "[encoded data removed]",
      "text/plain": [
       "<Figure size 864x648 with 1 Axes>"
      ]
     },
     "metadata": {
      "needs_background": "light"
     },
     "output_type": "display_data"
    }
   ],
   "source": [
    "# cut x-axis ells to LMAX_CUT\n",
    "ells = b.get_effective_ells()\n",
    "ells = ells[:max_bin(ells, LMAX_CUT)]\n",
    "\n",
    "plt.figure(figsize=(12,9))\n",
    "plt.plot(ells, clkk_theory_binned, label=\"denominator\")\n",
    "plt.errorbar(ells, clkk_mean_sims, errs, label=\"numerator\")\n",
    "plt.xlabel(r\"$L$\", size=24)\n",
    "plt.ylabel(r\"$C_L$\", size=24)\n",
    "plt.legend(prop={'size': 16})\n",
    "plt.show()"
   ]
  },
  {
   "cell_type": "code",
   "execution_count": 138,
   "id": "232a1d24",
   "metadata": {},
   "outputs": [
    {
     "data": {
      "image/png": "[encoded data removed]",
      "text/plain": [
       "<Figure size 864x648 with 1 Axes>"
      ]
     },
     "metadata": {
      "needs_background": "light"
     },
     "output_type": "display_data"
    }
   ],
   "source": [
    "plt.figure(figsize=(12,9))\n",
    "plt.title(f\"Transfer function from ACT DR6 lensing sims #{START_INDEX} ~ #{END_INDEX}\", size=20)\n",
    "plt.errorbar(ells, clkk_mean_sims / clkk_theory_binned, errs / clkk_theory_binned, fmt='o')\n",
    "plt.plot(ells, ells * 0. + 1., '--', color='grey')\n",
    "plt.xlabel(r\"$L$\", size=24)\n",
    "plt.ylabel(r\"$\\bar{C}_L^{\\hat{\\kappa} \\kappa} / C_{L,th}^{\\kappa \\kappa}$\", size=24)\n",
    "plt.show()"
   ]
  },
  {
   "cell_type": "code",
   "execution_count": 139,
   "id": "1775a376",
   "metadata": {},
   "outputs": [],
   "source": [
    "# Write to disk\n",
    "np.savetxt(\"act-dr6-transfer-function.txt\", np.column_stack((ells,\n",
    "                                                             clkk_mean_sims / clkk_theory_binned,\n",
    "                                                             errs / clkk_theory_binned)))"
   ]
  }
 ],
 "metadata": {
  "kernelspec": {
   "display_name": "Python [conda env:.conda-myenv] *",
   "language": "python",
   "name": "conda-env-.conda-myenv-py"
  },
  "language_info": {
   "codemirror_mode": {
    "name": "ipython",
    "version": 3
   },
   "file_extension": ".py",
   "mimetype": "text/x-python",
   "name": "python",
   "nbconvert_exporter": "python",
   "pygments_lexer": "ipython3",
   "version": "3.7.16"
  }
 },
 "nbformat": 4,
 "nbformat_minor": 5
}
